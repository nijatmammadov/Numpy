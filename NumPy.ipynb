{
 "cells": [
  {
   "cell_type": "code",
   "execution_count": 2,
   "id": "4e42c2ae-e1f0-4699-be4c-2f1545c01fb7",
   "metadata": {},
   "outputs": [],
   "source": [
    "import numpy as np\n"
   ]
  },
  {
   "cell_type": "code",
   "execution_count": 6,
   "id": "f6615e22-cd5f-4cf0-84d2-e10ce624048f",
   "metadata": {},
   "outputs": [
    {
     "data": {
      "text/plain": [
       "'1.20.3'"
      ]
     },
     "execution_count": 6,
     "metadata": {},
     "output_type": "execute_result"
    }
   ],
   "source": [
    "np.__version__"
   ]
  },
  {
   "cell_type": "code",
   "execution_count": 8,
   "id": "659e11ad-54bd-4358-85d2-256af022d464",
   "metadata": {},
   "outputs": [
    {
     "data": {
      "text/plain": [
       "\u001b[1;31mType:\u001b[0m        module\n",
       "\u001b[1;31mString form:\u001b[0m <module 'numpy' from 'C:\\\\Users\\\\Asus\\\\anaconda3\\\\Anaconda\\\\lib\\\\site-packages\\\\numpy\\\\__init__.py'>\n",
       "\u001b[1;31mFile:\u001b[0m        c:\\users\\asus\\anaconda3\\anaconda\\lib\\site-packages\\numpy\\__init__.py\n",
       "\u001b[1;31mDocstring:\u001b[0m  \n",
       "NumPy\n",
       "=====\n",
       "\n",
       "Provides\n",
       "  1. An array object of arbitrary homogeneous items\n",
       "  2. Fast mathematical operations over arrays\n",
       "  3. Linear Algebra, Fourier Transforms, Random Number Generation\n",
       "\n",
       "How to use the documentation\n",
       "----------------------------\n",
       "Documentation is available in two forms: docstrings provided\n",
       "with the code, and a loose standing reference guide, available from\n",
       "`the NumPy homepage <https://www.scipy.org>`_.\n",
       "\n",
       "We recommend exploring the docstrings using\n",
       "`IPython <https://ipython.org>`_, an advanced Python shell with\n",
       "TAB-completion and introspection capabilities.  See below for further\n",
       "instructions.\n",
       "\n",
       "The docstring examples assume that `numpy` has been imported as `np`::\n",
       "\n",
       "  >>> import numpy as np\n",
       "\n",
       "Code snippets are indicated by three greater-than signs::\n",
       "\n",
       "  >>> x = 42\n",
       "  >>> x = x + 1\n",
       "\n",
       "Use the built-in ``help`` function to view a function's docstring::\n",
       "\n",
       "  >>> help(np.sort)\n",
       "  ... # doctest: +SKIP\n",
       "\n",
       "For some objects, ``np.info(obj)`` may provide additional help.  This is\n",
       "particularly true if you see the line \"Help on ufunc object:\" at the top\n",
       "of the help() page.  Ufuncs are implemented in C, not Python, for speed.\n",
       "The native Python help() does not know how to view their help, but our\n",
       "np.info() function does.\n",
       "\n",
       "To search for documents containing a keyword, do::\n",
       "\n",
       "  >>> np.lookfor('keyword')\n",
       "  ... # doctest: +SKIP\n",
       "\n",
       "General-purpose documents like a glossary and help on the basic concepts\n",
       "of numpy are available under the ``doc`` sub-module::\n",
       "\n",
       "  >>> from numpy import doc\n",
       "  >>> help(doc)\n",
       "  ... # doctest: +SKIP\n",
       "\n",
       "Available subpackages\n",
       "---------------------\n",
       "doc\n",
       "    Topical documentation on broadcasting, indexing, etc.\n",
       "lib\n",
       "    Basic functions used by several sub-packages.\n",
       "random\n",
       "    Core Random Tools\n",
       "linalg\n",
       "    Core Linear Algebra Tools\n",
       "fft\n",
       "    Core FFT routines\n",
       "polynomial\n",
       "    Polynomial tools\n",
       "testing\n",
       "    NumPy testing tools\n",
       "f2py\n",
       "    Fortran to Python Interface Generator.\n",
       "distutils\n",
       "    Enhancements to distutils with support for\n",
       "    Fortran compilers support and more.\n",
       "\n",
       "Utilities\n",
       "---------\n",
       "test\n",
       "    Run numpy unittests\n",
       "show_config\n",
       "    Show numpy build configuration\n",
       "dual\n",
       "    Overwrite certain functions with high-performance SciPy tools.\n",
       "    Note: `numpy.dual` is deprecated.  Use the functions from NumPy or Scipy\n",
       "    directly instead of importing them from `numpy.dual`.\n",
       "matlib\n",
       "    Make everything matrices.\n",
       "__version__\n",
       "    NumPy version string\n",
       "\n",
       "Viewing documentation using IPython\n",
       "-----------------------------------\n",
       "Start IPython with the NumPy profile (``ipython -p numpy``), which will\n",
       "import `numpy` under the alias `np`.  Then, use the ``cpaste`` command to\n",
       "paste examples into the shell.  To see which functions are available in\n",
       "`numpy`, type ``np.<TAB>`` (where ``<TAB>`` refers to the TAB key), or use\n",
       "``np.*cos*?<ENTER>`` (where ``<ENTER>`` refers to the ENTER key) to narrow\n",
       "down the list.  To view the docstring for a function, use\n",
       "``np.cos?<ENTER>`` (to view the docstring) and ``np.cos??<ENTER>`` (to view\n",
       "the source code).\n",
       "\n",
       "Copies vs. in-place operation\n",
       "-----------------------------\n",
       "Most of the functions in `numpy` return a copy of the array argument\n",
       "(e.g., `np.sort`).  In-place versions of these functions are often\n",
       "available as array methods, i.e. ``x = np.array([1,2,3]); x.sort()``.\n",
       "Exceptions to this rule are documented.\n"
      ]
     },
     "metadata": {},
     "output_type": "display_data"
    }
   ],
   "source": [
    "np?"
   ]
  },
  {
   "cell_type": "code",
   "execution_count": 9,
   "id": "2ad24317-f1b3-496c-9584-5ac2fabbf30a",
   "metadata": {},
   "outputs": [
    {
     "data": {
      "text/plain": [
       "array([[2, 3, 4],\n",
       "       [4, 5, 6],\n",
       "       [6, 7, 8]])"
      ]
     },
     "execution_count": 9,
     "metadata": {},
     "output_type": "execute_result"
    }
   ],
   "source": [
    "np.array([range(i, i + 3) for i in [2, 4, 6]])\n"
   ]
  },
  {
   "cell_type": "code",
   "execution_count": 15,
   "id": "36ba53b7-8189-40bc-ac2a-baa9e49608c2",
   "metadata": {},
   "outputs": [
    {
     "data": {
      "text/plain": [
       "array([8.48573491e-312, 0.00000000e+000, 0.00000000e+000, 0.00000000e+000])"
      ]
     },
     "execution_count": 15,
     "metadata": {},
     "output_type": "execute_result"
    }
   ],
   "source": [
    "np.empty(4)\n"
   ]
  },
  {
   "cell_type": "code",
   "execution_count": 16,
   "id": "ff26176b-cdd0-4f21-8947-019bbec9b482",
   "metadata": {},
   "outputs": [
    {
     "data": {
      "text/plain": [
       "array([0., 0., 0., 0., 0., 0., 0., 0., 0., 0.])"
      ]
     },
     "execution_count": 16,
     "metadata": {},
     "output_type": "execute_result"
    }
   ],
   "source": [
    "np.zeros(10)\n"
   ]
  },
  {
   "cell_type": "code",
   "execution_count": 17,
   "id": "cc793cb7-e533-4c37-bf4b-052d0cc6fd58",
   "metadata": {},
   "outputs": [
    {
     "data": {
      "text/plain": [
       "array([0, 0, 0, 0, 0, 0, 0, 0, 0, 0])"
      ]
     },
     "execution_count": 17,
     "metadata": {},
     "output_type": "execute_result"
    }
   ],
   "source": [
    "np.zeros(10, dtype = int)"
   ]
  },
  {
   "cell_type": "code",
   "execution_count": 18,
   "id": "d6d24a2c-d842-4771-a7c0-0fc6211df22d",
   "metadata": {},
   "outputs": [
    {
     "data": {
      "text/plain": [
       "array([[1, 1, 1, 1, 1],\n",
       "       [1, 1, 1, 1, 1],\n",
       "       [1, 1, 1, 1, 1]])"
      ]
     },
     "execution_count": 18,
     "metadata": {},
     "output_type": "execute_result"
    }
   ],
   "source": [
    "np.ones((3,5),dtype = int)"
   ]
  },
  {
   "cell_type": "code",
   "execution_count": 23,
   "id": "2f1e91a9-917a-4a59-bf1d-be9db5ab78fb",
   "metadata": {},
   "outputs": [
    {
     "data": {
      "text/plain": [
       "array([[3, 3, 3, 3, 3],\n",
       "       [3, 3, 3, 3, 3],\n",
       "       [3, 3, 3, 3, 3]])"
      ]
     },
     "execution_count": 23,
     "metadata": {},
     "output_type": "execute_result"
    }
   ],
   "source": [
    "np.full((3,5),3.14, dtype=int)"
   ]
  },
  {
   "cell_type": "code",
   "execution_count": 28,
   "id": "132342ea-c9c2-4ff9-98b6-09b009c8aa92",
   "metadata": {},
   "outputs": [
    {
     "data": {
      "text/plain": [
       "array([ 0,  5, 10, 15, 20, 25, 30, 35, 40, 45, 50, 55, 60, 65, 70, 75, 80,\n",
       "       85, 90, 95])"
      ]
     },
     "execution_count": 28,
     "metadata": {},
     "output_type": "execute_result"
    }
   ],
   "source": [
    "np.arange(0,100,5) # x1 = 0 , xn = 100, xk += 5"
   ]
  },
  {
   "cell_type": "code",
   "execution_count": 31,
   "id": "40e270cd-b4ca-4415-9e95-0830e461a44e",
   "metadata": {},
   "outputs": [
    {
     "data": {
      "text/plain": [
       "array([ 0. ,  2.5,  5. ,  7.5, 10. ])"
      ]
     },
     "execution_count": 31,
     "metadata": {},
     "output_type": "execute_result"
    }
   ],
   "source": [
    "a = np.linspace(0,10, 5 )\n",
    "a"
   ]
  },
  {
   "cell_type": "code",
   "execution_count": 32,
   "id": "9a43bed7-ec42-4eb8-b9bf-dfbff5661c19",
   "metadata": {},
   "outputs": [
    {
     "data": {
      "text/plain": [
       "numpy.ndarray"
      ]
     },
     "execution_count": 32,
     "metadata": {},
     "output_type": "execute_result"
    }
   ],
   "source": [
    "type(a)"
   ]
  },
  {
   "cell_type": "code",
   "execution_count": 33,
   "id": "80f5af45-1802-42bb-bdff-4343d889876f",
   "metadata": {},
   "outputs": [
    {
     "data": {
      "text/plain": [
       "array([[0.68808398, 0.9375861 ],\n",
       "       [0.79992238, 0.2018164 ],\n",
       "       [0.74765332, 0.04447352]])"
      ]
     },
     "execution_count": 33,
     "metadata": {},
     "output_type": "execute_result"
    }
   ],
   "source": [
    "np.random.random((3,2))"
   ]
  },
  {
   "cell_type": "code",
   "execution_count": 35,
   "id": "26dc28bc-b58d-4901-97af-7cfe7812fbff",
   "metadata": {},
   "outputs": [
    {
     "data": {
      "text/plain": [
       "array([[4.45393503, 4.86297131, 6.63449862, 4.62592798],\n",
       "       [3.86803463, 5.57180995, 3.49996997, 2.90072487]])"
      ]
     },
     "execution_count": 35,
     "metadata": {},
     "output_type": "execute_result"
    }
   ],
   "source": [
    "np.random.normal(5,1,(2,4))"
   ]
  },
  {
   "cell_type": "code",
   "execution_count": 37,
   "id": "52510442-3014-425c-b205-7c53cc2d1861",
   "metadata": {},
   "outputs": [
    {
     "data": {
      "text/plain": [
       "array([[12, 42, 10, 20, 49],\n",
       "       [25, 18, 23, 41, 37],\n",
       "       [12, 19, 33, 35, 46],\n",
       "       [35, 46, 41, 22, 31],\n",
       "       [45, 15, 19, 27, 12]])"
      ]
     },
     "execution_count": 37,
     "metadata": {},
     "output_type": "execute_result"
    }
   ],
   "source": [
    "np.random.randint(10,50,(5,5))"
   ]
  },
  {
   "cell_type": "code",
   "execution_count": 41,
   "id": "8960a962-c545-489c-b3dd-0dfe01c7bb07",
   "metadata": {},
   "outputs": [
    {
     "data": {
      "text/plain": [
       "array([[1., 0., 0., 0.],\n",
       "       [0., 1., 0., 0.],\n",
       "       [0., 0., 1., 0.]])"
      ]
     },
     "execution_count": 41,
     "metadata": {},
     "output_type": "execute_result"
    }
   ],
   "source": [
    "np.eye(3,4)"
   ]
  },
  {
   "cell_type": "code",
   "execution_count": 44,
   "id": "948ff200-e45a-4076-9526-94f23126023d",
   "metadata": {},
   "outputs": [
    {
     "data": {
      "text/plain": [
       "array([[1., 0., 0., 0.],\n",
       "       [0., 1., 0., 0.],\n",
       "       [0., 0., 1., 0.]])"
      ]
     },
     "execution_count": 44,
     "metadata": {},
     "output_type": "execute_result"
    }
   ],
   "source": [
    "np.empty((3,4))"
   ]
  },
  {
   "cell_type": "code",
   "execution_count": 66,
   "id": "6e5243ce-a183-414c-92da-e3022d5ccee6",
   "metadata": {},
   "outputs": [],
   "source": [
    "arr = np.zeros((2,4,5), dtype = np.int64)"
   ]
  },
  {
   "cell_type": "raw",
   "id": "03593f4f-e675-4bbd-a3ca-c927badda371",
   "metadata": {},
   "source": []
  },
  {
   "cell_type": "code",
   "execution_count": 67,
   "id": "3c34db96-efa6-4e97-80fe-f901fe864540",
   "metadata": {},
   "outputs": [
    {
     "data": {
      "text/plain": [
       "array([[[0, 0, 0, 0, 0],\n",
       "        [0, 0, 0, 0, 0],\n",
       "        [0, 0, 0, 0, 0],\n",
       "        [0, 0, 0, 0, 0]],\n",
       "\n",
       "       [[0, 0, 0, 0, 0],\n",
       "        [0, 0, 0, 0, 0],\n",
       "        [0, 0, 0, 0, 0],\n",
       "        [0, 0, 0, 0, 0]]], dtype=int64)"
      ]
     },
     "execution_count": 67,
     "metadata": {},
     "output_type": "execute_result"
    }
   ],
   "source": [
    "arr"
   ]
  },
  {
   "cell_type": "code",
   "execution_count": 68,
   "id": "e21f6a56-361c-4727-8f5d-3c09bfbc54bd",
   "metadata": {},
   "outputs": [
    {
     "data": {
      "text/plain": [
       "dtype('int64')"
      ]
     },
     "execution_count": 68,
     "metadata": {},
     "output_type": "execute_result"
    }
   ],
   "source": [
    "arr.dtype"
   ]
  },
  {
   "cell_type": "code",
   "execution_count": 69,
   "id": "1698d1d8-5889-4383-8a4e-905588762597",
   "metadata": {},
   "outputs": [
    {
     "data": {
      "text/plain": [
       "(2, 4, 5)"
      ]
     },
     "execution_count": 69,
     "metadata": {},
     "output_type": "execute_result"
    }
   ],
   "source": [
    "arr.shape"
   ]
  },
  {
   "cell_type": "code",
   "execution_count": 70,
   "id": "de1c11b4-1b7f-489c-babe-5f5b226b88fe",
   "metadata": {},
   "outputs": [
    {
     "data": {
      "text/plain": [
       "3"
      ]
     },
     "execution_count": 70,
     "metadata": {},
     "output_type": "execute_result"
    }
   ],
   "source": [
    "arr.ndim"
   ]
  },
  {
   "cell_type": "code",
   "execution_count": 71,
   "id": "6c894af9-93ab-4595-9c3c-b6c0987a8ab5",
   "metadata": {},
   "outputs": [
    {
     "data": {
      "text/plain": [
       "40"
      ]
     },
     "execution_count": 71,
     "metadata": {},
     "output_type": "execute_result"
    }
   ],
   "source": [
    "arr.size"
   ]
  },
  {
   "cell_type": "code",
   "execution_count": 72,
   "id": "8777cf39-a05c-4c7a-b660-c29447779dd3",
   "metadata": {},
   "outputs": [
    {
     "data": {
      "text/plain": [
       "8"
      ]
     },
     "execution_count": 72,
     "metadata": {},
     "output_type": "execute_result"
    }
   ],
   "source": [
    "arr.itemsize"
   ]
  },
  {
   "cell_type": "code",
   "execution_count": 73,
   "id": "eba41bdb-f93f-4221-a24a-3adbcc56e0e5",
   "metadata": {},
   "outputs": [
    {
     "data": {
      "text/plain": [
       "320"
      ]
     },
     "execution_count": 73,
     "metadata": {},
     "output_type": "execute_result"
    }
   ],
   "source": [
    "arr.nbytes"
   ]
  },
  {
   "cell_type": "code",
   "execution_count": 77,
   "id": "d2217efe-99ef-4ee8-a189-cc7cbb900a7a",
   "metadata": {},
   "outputs": [
    {
     "data": {
      "text/plain": [
       "array([[[13, 41, 20, 11, 11],\n",
       "        [17, 24, 48, 29, 15],\n",
       "        [38, 31, 35, 47, 23],\n",
       "        [14, 29, 40, 36, 12]],\n",
       "\n",
       "       [[41, 35, 31, 31, 33],\n",
       "        [40, 41, 35, 38, 39],\n",
       "        [48, 19, 13, 21, 22],\n",
       "        [31, 29, 12, 44, 20]],\n",
       "\n",
       "       [[43, 15, 17, 45, 44],\n",
       "        [30, 16, 40, 22, 29],\n",
       "        [49, 10, 32, 32, 48],\n",
       "        [15, 29, 24, 48, 19]]])"
      ]
     },
     "execution_count": 77,
     "metadata": {},
     "output_type": "execute_result"
    }
   ],
   "source": [
    "arr = np.random.randint(10,50,(3,4,5))\n",
    "arr\n"
   ]
  },
  {
   "cell_type": "code",
   "execution_count": 78,
   "id": "8fb29eb2-0eb6-4910-b6e5-6e62cb99f7c9",
   "metadata": {},
   "outputs": [
    {
     "data": {
      "text/plain": [
       "29"
      ]
     },
     "execution_count": 78,
     "metadata": {},
     "output_type": "execute_result"
    }
   ],
   "source": [
    "arr[0][1][3]"
   ]
  },
  {
   "cell_type": "code",
   "execution_count": 79,
   "id": "a2abe340-2051-4fad-bde3-b79855a54a20",
   "metadata": {},
   "outputs": [],
   "source": [
    "arr[0][1][3] = 290"
   ]
  },
  {
   "cell_type": "code",
   "execution_count": 80,
   "id": "49fb7fb8-fec8-4854-ba27-df71e81a7c6d",
   "metadata": {},
   "outputs": [
    {
     "data": {
      "text/plain": [
       "array([[[ 13,  41,  20,  11,  11],\n",
       "        [ 17,  24,  48, 290,  15],\n",
       "        [ 38,  31,  35,  47,  23],\n",
       "        [ 14,  29,  40,  36,  12]],\n",
       "\n",
       "       [[ 41,  35,  31,  31,  33],\n",
       "        [ 40,  41,  35,  38,  39],\n",
       "        [ 48,  19,  13,  21,  22],\n",
       "        [ 31,  29,  12,  44,  20]],\n",
       "\n",
       "       [[ 43,  15,  17,  45,  44],\n",
       "        [ 30,  16,  40,  22,  29],\n",
       "        [ 49,  10,  32,  32,  48],\n",
       "        [ 15,  29,  24,  48,  19]]])"
      ]
     },
     "execution_count": 80,
     "metadata": {},
     "output_type": "execute_result"
    }
   ],
   "source": [
    "arr"
   ]
  },
  {
   "cell_type": "code",
   "execution_count": 81,
   "id": "d7d6f08a-bf0e-40a4-ac58-3f4dcb6f379c",
   "metadata": {},
   "outputs": [
    {
     "data": {
      "text/plain": [
       "24"
      ]
     },
     "execution_count": 81,
     "metadata": {},
     "output_type": "execute_result"
    }
   ],
   "source": [
    "arr[-1][-1][-3]"
   ]
  },
  {
   "cell_type": "code",
   "execution_count": 82,
   "id": "39eb2f7e-4b47-48b2-8d4e-a1650cf508aa",
   "metadata": {},
   "outputs": [],
   "source": [
    "arr[-1][-1][-3] = 4.9999 #The reason is casting"
   ]
  },
  {
   "cell_type": "code",
   "execution_count": 83,
   "id": "2c0625d6-6a7b-496a-8512-5c6d5aa93d55",
   "metadata": {},
   "outputs": [
    {
     "data": {
      "text/plain": [
       "array([[[ 13,  41,  20,  11,  11],\n",
       "        [ 17,  24,  48, 290,  15],\n",
       "        [ 38,  31,  35,  47,  23],\n",
       "        [ 14,  29,  40,  36,  12]],\n",
       "\n",
       "       [[ 41,  35,  31,  31,  33],\n",
       "        [ 40,  41,  35,  38,  39],\n",
       "        [ 48,  19,  13,  21,  22],\n",
       "        [ 31,  29,  12,  44,  20]],\n",
       "\n",
       "       [[ 43,  15,  17,  45,  44],\n",
       "        [ 30,  16,  40,  22,  29],\n",
       "        [ 49,  10,  32,  32,  48],\n",
       "        [ 15,  29,   4,  48,  19]]])"
      ]
     },
     "execution_count": 83,
     "metadata": {},
     "output_type": "execute_result"
    }
   ],
   "source": [
    "arr\n"
   ]
  },
  {
   "cell_type": "code",
   "execution_count": 85,
   "id": "28b192d1-6116-408c-926c-bead73a74f90",
   "metadata": {},
   "outputs": [],
   "source": [
    "arr[-1][2][0:3] = [1,2,3]"
   ]
  },
  {
   "cell_type": "code",
   "execution_count": 86,
   "id": "45766f24-cf0f-4c73-aa55-e7387a417c85",
   "metadata": {},
   "outputs": [
    {
     "data": {
      "text/plain": [
       "array([[[ 13,  41,  20,  11,  11],\n",
       "        [ 17,  24,  48, 290,  15],\n",
       "        [ 38,  31,  35,  47,  23],\n",
       "        [ 14,  29,  40,  36,  12]],\n",
       "\n",
       "       [[ 41,  35,  31,  31,  33],\n",
       "        [ 40,  41,  35,  38,  39],\n",
       "        [ 48,  19,  13,  21,  22],\n",
       "        [ 31,  29,  12,  44,  20]],\n",
       "\n",
       "       [[ 43,  15,  17,  45,  44],\n",
       "        [ 30,  16,  40,  22,  29],\n",
       "        [  1,   2,   3,  32,  48],\n",
       "        [ 15,  29,   4,  48,  19]]])"
      ]
     },
     "execution_count": 86,
     "metadata": {},
     "output_type": "execute_result"
    }
   ],
   "source": [
    "arr\n"
   ]
  },
  {
   "cell_type": "code",
   "execution_count": 87,
   "id": "6b272d75-5f67-4c96-a0a5-f475b079613f",
   "metadata": {},
   "outputs": [],
   "source": [
    "arr[-1][1][0:5:2] = [1,2,3]"
   ]
  },
  {
   "cell_type": "code",
   "execution_count": 88,
   "id": "77d96211-caad-4e64-926e-75f898f81a82",
   "metadata": {},
   "outputs": [
    {
     "data": {
      "text/plain": [
       "array([[[ 13,  41,  20,  11,  11],\n",
       "        [ 17,  24,  48, 290,  15],\n",
       "        [ 38,  31,  35,  47,  23],\n",
       "        [ 14,  29,  40,  36,  12]],\n",
       "\n",
       "       [[ 41,  35,  31,  31,  33],\n",
       "        [ 40,  41,  35,  38,  39],\n",
       "        [ 48,  19,  13,  21,  22],\n",
       "        [ 31,  29,  12,  44,  20]],\n",
       "\n",
       "       [[ 43,  15,  17,  45,  44],\n",
       "        [  1,  16,   2,  22,   3],\n",
       "        [  1,   2,   3,  32,  48],\n",
       "        [ 15,  29,   4,  48,  19]]])"
      ]
     },
     "execution_count": 88,
     "metadata": {},
     "output_type": "execute_result"
    }
   ],
   "source": [
    "arr"
   ]
  },
  {
   "cell_type": "code",
   "execution_count": 95,
   "id": "c386de04-1eb1-4a38-a1ce-c05f73839543",
   "metadata": {},
   "outputs": [],
   "source": [
    "arr[0][:4][:5] = np.ones((4,5), dtype = 'float')"
   ]
  },
  {
   "cell_type": "code",
   "execution_count": 96,
   "id": "fe6cadf9-c79a-47fe-919f-15a7a538c3c3",
   "metadata": {},
   "outputs": [
    {
     "data": {
      "text/plain": [
       "array([[[ 1,  1,  1,  1,  1],\n",
       "        [ 1,  1,  1,  1,  1],\n",
       "        [ 1,  1,  1,  1,  1],\n",
       "        [ 1,  1,  1,  1,  1]],\n",
       "\n",
       "       [[41, 35, 31, 31, 33],\n",
       "        [40, 41, 35, 38, 39],\n",
       "        [48, 19, 13, 21, 22],\n",
       "        [31, 29, 12, 44, 20]],\n",
       "\n",
       "       [[43, 15, 17, 45, 44],\n",
       "        [ 1, 16,  2, 22,  3],\n",
       "        [ 1,  2,  3, 32, 48],\n",
       "        [15, 29,  4, 48, 19]]])"
      ]
     },
     "execution_count": 96,
     "metadata": {},
     "output_type": "execute_result"
    }
   ],
   "source": [
    "arr\n"
   ]
  },
  {
   "cell_type": "markdown",
   "id": "3c4c615a-b2f6-4769-bad9-9045a116ed42",
   "metadata": {},
   "source": [
    "#\n",
    "Subarrays"
   ]
  },
  {
   "cell_type": "code",
   "execution_count": 97,
   "id": "d7fdd3e7-af7f-4758-be31-b3d8fa40b2f1",
   "metadata": {},
   "outputs": [
    {
     "data": {
      "text/plain": [
       "array([[[ 1,  1,  1,  1,  1],\n",
       "        [ 1,  1,  1,  1,  1],\n",
       "        [ 1,  1,  1,  1,  1],\n",
       "        [ 1,  1,  1,  1,  1]],\n",
       "\n",
       "       [[41, 35, 31, 31, 33],\n",
       "        [40, 41, 35, 38, 39],\n",
       "        [48, 19, 13, 21, 22],\n",
       "        [31, 29, 12, 44, 20]],\n",
       "\n",
       "       [[43, 15, 17, 45, 44],\n",
       "        [ 1, 16,  2, 22,  3],\n",
       "        [ 1,  2,  3, 32, 48],\n",
       "        [15, 29,  4, 48, 19]]])"
      ]
     },
     "execution_count": 97,
     "metadata": {},
     "output_type": "execute_result"
    }
   ],
   "source": [
    "arr\n"
   ]
  },
  {
   "cell_type": "code",
   "execution_count": 110,
   "id": "403470a9-cb47-4842-9c3d-ccd7d1784d19",
   "metadata": {},
   "outputs": [],
   "source": [
    "x = arr[2,:3,:3].copy()"
   ]
  },
  {
   "cell_type": "code",
   "execution_count": 111,
   "id": "67651a35-444e-43a9-8e1c-431bd3de547d",
   "metadata": {},
   "outputs": [
    {
     "data": {
      "text/plain": [
       "array([[43, 15, 17],\n",
       "       [ 1, 16,  2],\n",
       "       [ 1,  2,  3]])"
      ]
     },
     "execution_count": 111,
     "metadata": {},
     "output_type": "execute_result"
    }
   ],
   "source": [
    "x"
   ]
  },
  {
   "cell_type": "code",
   "execution_count": 112,
   "id": "dc509c67-8f52-4718-84d5-57cc1bd93c10",
   "metadata": {},
   "outputs": [],
   "source": [
    "x2 = x.copy()"
   ]
  },
  {
   "cell_type": "code",
   "execution_count": 113,
   "id": "71cf1101-50d1-425f-a52a-d65e1ef925f4",
   "metadata": {},
   "outputs": [
    {
     "data": {
      "text/plain": [
       "array([[43, 15, 17],\n",
       "       [ 1, 16,  2],\n",
       "       [ 1,  2,  3]])"
      ]
     },
     "execution_count": 113,
     "metadata": {},
     "output_type": "execute_result"
    }
   ],
   "source": [
    "x2"
   ]
  },
  {
   "cell_type": "code",
   "execution_count": 114,
   "id": "1dd417bd-d661-4996-9071-4727402a4f71",
   "metadata": {},
   "outputs": [
    {
     "data": {
      "text/plain": [
       "array([[43, 15, 17,  1, 16,  2,  1,  2,  3]])"
      ]
     },
     "execution_count": 114,
     "metadata": {},
     "output_type": "execute_result"
    }
   ],
   "source": [
    "x2.reshape((1,9))"
   ]
  },
  {
   "cell_type": "code",
   "execution_count": 115,
   "id": "0f7362ff-d118-4fa5-b994-58173d25dc6e",
   "metadata": {},
   "outputs": [
    {
     "data": {
      "text/plain": [
       "array([[43, 15, 17],\n",
       "       [ 1, 16,  2],\n",
       "       [ 1,  2,  3]])"
      ]
     },
     "execution_count": 115,
     "metadata": {},
     "output_type": "execute_result"
    }
   ],
   "source": [
    "x2"
   ]
  },
  {
   "cell_type": "code",
   "execution_count": 116,
   "id": "6d31dd56-7ad5-424c-8af5-3feac9683982",
   "metadata": {},
   "outputs": [
    {
     "data": {
      "text/plain": [
       "array([[[43, 15, 17],\n",
       "        [ 1, 16,  2],\n",
       "        [ 1,  2,  3]]])"
      ]
     },
     "execution_count": 116,
     "metadata": {},
     "output_type": "execute_result"
    }
   ],
   "source": [
    "x2[np.newaxis, :]\n"
   ]
  },
  {
   "cell_type": "code",
   "execution_count": 117,
   "id": "bf19417d-dd89-4a3b-80db-304e1bbf797c",
   "metadata": {},
   "outputs": [
    {
     "data": {
      "text/plain": [
       "(3, 3)"
      ]
     },
     "execution_count": 117,
     "metadata": {},
     "output_type": "execute_result"
    }
   ],
   "source": [
    "x2.shape"
   ]
  },
  {
   "cell_type": "code",
   "execution_count": 118,
   "id": "a65a0ff5-54a7-4de8-9632-dc98648a8f55",
   "metadata": {},
   "outputs": [
    {
     "data": {
      "text/plain": [
       "2"
      ]
     },
     "execution_count": 118,
     "metadata": {},
     "output_type": "execute_result"
    }
   ],
   "source": [
    "x2.ndim"
   ]
  },
  {
   "cell_type": "code",
   "execution_count": 119,
   "id": "f7c55009-532c-43fc-b047-97c6745e5af5",
   "metadata": {},
   "outputs": [
    {
     "data": {
      "text/plain": [
       "3"
      ]
     },
     "execution_count": 119,
     "metadata": {},
     "output_type": "execute_result"
    }
   ],
   "source": [
    "x2[np.newaxis, :].ndim"
   ]
  },
  {
   "cell_type": "code",
   "execution_count": 127,
   "id": "6b9b30d2-a55a-418f-81f2-4eb2c4d356fe",
   "metadata": {},
   "outputs": [
    {
     "data": {
      "text/plain": [
       "array([[1, 2, 3, 8, 2, 4],\n",
       "       [4, 6, 5, 9, 4, 5],\n",
       "       [7, 4, 1, 7, 1, 1]])"
      ]
     },
     "execution_count": 127,
     "metadata": {},
     "output_type": "execute_result"
    }
   ],
   "source": [
    "A = np.array([[1,2,3],\n",
    "             [4,6,5],\n",
    "             [7,4,1]])\n",
    "\n",
    "B = np.array([[8,2,4],\n",
    "             [9,4,5],\n",
    "             [7,1,1]])\n",
    "\n",
    "np.concatenate([A,B], axis=1)"
   ]
  },
  {
   "cell_type": "code",
   "execution_count": 128,
   "id": "ea800d75-f36e-4a0c-a035-933359cfd63e",
   "metadata": {},
   "outputs": [
    {
     "data": {
      "text/plain": [
       "array([[1, 2, 3, 8, 2, 4],\n",
       "       [4, 6, 5, 9, 4, 5],\n",
       "       [7, 4, 1, 7, 1, 1]])"
      ]
     },
     "execution_count": 128,
     "metadata": {},
     "output_type": "execute_result"
    }
   ],
   "source": [
    "np.hstack([A,B])"
   ]
  },
  {
   "cell_type": "code",
   "execution_count": 129,
   "id": "ecd428d9-2e04-409c-90d4-afb8391b78cb",
   "metadata": {},
   "outputs": [
    {
     "data": {
      "text/plain": [
       "array([[1, 2, 3],\n",
       "       [4, 6, 5],\n",
       "       [7, 4, 1],\n",
       "       [8, 2, 4],\n",
       "       [9, 4, 5],\n",
       "       [7, 1, 1]])"
      ]
     },
     "execution_count": 129,
     "metadata": {},
     "output_type": "execute_result"
    }
   ],
   "source": [
    "np.vstack([A,B])"
   ]
  },
  {
   "cell_type": "code",
   "execution_count": 130,
   "id": "ac427845-a878-4072-8610-d356f26351af",
   "metadata": {},
   "outputs": [
    {
     "data": {
      "text/plain": [
       "array([[[1, 8],\n",
       "        [2, 2],\n",
       "        [3, 4]],\n",
       "\n",
       "       [[4, 9],\n",
       "        [6, 4],\n",
       "        [5, 5]],\n",
       "\n",
       "       [[7, 7],\n",
       "        [4, 1],\n",
       "        [1, 1]]])"
      ]
     },
     "execution_count": 130,
     "metadata": {},
     "output_type": "execute_result"
    }
   ],
   "source": [
    "np.dstack([A,B])"
   ]
  },
  {
   "cell_type": "markdown",
   "id": "bcab81ec-4701-4b58-8497-550be026d579",
   "metadata": {},
   "source": [
    "### split"
   ]
  },
  {
   "cell_type": "code",
   "execution_count": 131,
   "id": "0b38b519-6bf0-429c-baed-6c545de52e38",
   "metadata": {},
   "outputs": [],
   "source": [
    "array = np.array([1,5,3,6,7,6,81,2,4])"
   ]
  },
  {
   "cell_type": "code",
   "execution_count": 133,
   "id": "7a92f79e-6fbf-4679-9dac-9e09fc2be6ff",
   "metadata": {},
   "outputs": [],
   "source": [
    "m,n,z = np.split(array, [3,6])"
   ]
  },
  {
   "cell_type": "code",
   "execution_count": 135,
   "id": "8c5857f6-5890-46f8-8196-6da82dc5e60c",
   "metadata": {},
   "outputs": [
    {
     "name": "stdout",
     "output_type": "stream",
     "text": [
      "[1 5 3] [6 7 6] [81  2  4]\n"
     ]
    }
   ],
   "source": [
    "print(m ,n ,z)"
   ]
  },
  {
   "cell_type": "code",
   "execution_count": 136,
   "id": "94a98f4b-f7a1-40df-8091-f1952dc63def",
   "metadata": {},
   "outputs": [],
   "source": [
    "array_two_dim = np.random.randint(0,15,(3,3))"
   ]
  },
  {
   "cell_type": "code",
   "execution_count": 137,
   "id": "66918fc2-7923-4d98-b02e-d6bf2b774428",
   "metadata": {},
   "outputs": [
    {
     "data": {
      "text/plain": [
       "array([[12,  5,  2],\n",
       "       [ 9, 11, 14],\n",
       "       [ 6,  5,  8]])"
      ]
     },
     "execution_count": 137,
     "metadata": {},
     "output_type": "execute_result"
    }
   ],
   "source": [
    "array_two_dim\n"
   ]
  },
  {
   "cell_type": "code",
   "execution_count": 146,
   "id": "d0a79ee6-b8e9-47f7-bad3-200723bcb14b",
   "metadata": {},
   "outputs": [
    {
     "data": {
      "text/plain": [
       "[array([[12,  5,  2]]),\n",
       " array([[ 9, 11, 14],\n",
       "        [ 6,  5,  8]])]"
      ]
     },
     "execution_count": 146,
     "metadata": {},
     "output_type": "execute_result"
    }
   ],
   "source": [
    "np.vsplit(array_two_dim, [1])"
   ]
  },
  {
   "cell_type": "code",
   "execution_count": 147,
   "id": "98e107cb-012e-494a-88f3-4dc67c73341d",
   "metadata": {},
   "outputs": [
    {
     "data": {
      "text/plain": [
       "[array([[12],\n",
       "        [ 9],\n",
       "        [ 6]]),\n",
       " array([[ 5,  2],\n",
       "        [11, 14],\n",
       "        [ 5,  8]])]"
      ]
     },
     "execution_count": 147,
     "metadata": {},
     "output_type": "execute_result"
    }
   ],
   "source": [
    "np.hsplit(array_two_dim, [1])"
   ]
  },
  {
   "cell_type": "code",
   "execution_count": null,
   "id": "c8f54c76-243a-4e22-8e62-e4b2fa78d8f6",
   "metadata": {},
   "outputs": [],
   "source": []
  },
  {
   "cell_type": "markdown",
   "id": "34e458f5-c1cc-4245-a7e0-86824f46930f",
   "metadata": {},
   "source": [
    "## fancy index\n"
   ]
  },
  {
   "cell_type": "code",
   "execution_count": 152,
   "id": "09582eb4-dc9d-49be-9361-e49a996331c4",
   "metadata": {},
   "outputs": [
    {
     "data": {
      "text/plain": [
       "array([2, 5])"
      ]
     },
     "execution_count": 152,
     "metadata": {},
     "output_type": "execute_result"
    }
   ],
   "source": [
    "a = np.array([1,2,5,6,4])\n",
    "\n",
    "b = [1,2]\n",
    "\n",
    "a[b]"
   ]
  },
  {
   "cell_type": "code",
   "execution_count": 154,
   "id": "73170cb6-fa09-4cd0-9504-8ec12ceb3062",
   "metadata": {},
   "outputs": [],
   "source": [
    "b = np.arange(0,16).reshape((4,4))"
   ]
  },
  {
   "cell_type": "code",
   "execution_count": 155,
   "id": "d2439ad3-bd4e-4d9e-87b0-6bf412bce2f8",
   "metadata": {},
   "outputs": [
    {
     "data": {
      "text/plain": [
       "array([[ 0,  1,  2,  3],\n",
       "       [ 4,  5,  6,  7],\n",
       "       [ 8,  9, 10, 11],\n",
       "       [12, 13, 14, 15]])"
      ]
     },
     "execution_count": 155,
     "metadata": {},
     "output_type": "execute_result"
    }
   ],
   "source": [
    "b"
   ]
  },
  {
   "cell_type": "code",
   "execution_count": 158,
   "id": "54c457d0-6fb5-437c-8c19-a390a9a2ed25",
   "metadata": {},
   "outputs": [
    {
     "data": {
      "text/plain": [
       "array([ 9, 14])"
      ]
     },
     "execution_count": 158,
     "metadata": {},
     "output_type": "execute_result"
    }
   ],
   "source": [
    "i = [2,3]\n",
    "\n",
    "j = [1,2]\n",
    "\n",
    "b[i,j]"
   ]
  },
  {
   "cell_type": "code",
   "execution_count": null,
   "id": "fe542fea-1dd7-4bcc-ab86-ce40a7b1b9ec",
   "metadata": {},
   "outputs": [],
   "source": []
  },
  {
   "cell_type": "code",
   "execution_count": 3,
   "id": "32b8361c-6ae7-498f-84ea-092f554b89d6",
   "metadata": {},
   "outputs": [],
   "source": [
    "w = np.array([1,5,6,8,7,45,6])"
   ]
  },
  {
   "cell_type": "code",
   "execution_count": 4,
   "id": "a00e7392-b736-40ce-a39c-c4c29d8fcc2c",
   "metadata": {},
   "outputs": [
    {
     "data": {
      "text/plain": [
       "array([ 1,  5,  6,  8,  7, 45,  6])"
      ]
     },
     "execution_count": 4,
     "metadata": {},
     "output_type": "execute_result"
    }
   ],
   "source": [
    "w\n"
   ]
  },
  {
   "cell_type": "code",
   "execution_count": 6,
   "id": "1970369e-0022-4ea7-ba81-00a34198eefa",
   "metadata": {},
   "outputs": [
    {
     "data": {
      "text/plain": [
       "array([ 8, 45])"
      ]
     },
     "execution_count": 6,
     "metadata": {},
     "output_type": "execute_result"
    }
   ],
   "source": [
    "w[w>7]"
   ]
  },
  {
   "cell_type": "code",
   "execution_count": 7,
   "id": "58a35015-ae02-4d68-b6b9-2a0777969a7b",
   "metadata": {},
   "outputs": [
    {
     "data": {
      "text/plain": [
       "array([1, 5, 6, 7, 6])"
      ]
     },
     "execution_count": 7,
     "metadata": {},
     "output_type": "execute_result"
    }
   ],
   "source": [
    "w[w<=7]"
   ]
  },
  {
   "cell_type": "code",
   "execution_count": 8,
   "id": "dfe6936f-2b64-4d33-9195-8d5b974613ef",
   "metadata": {},
   "outputs": [
    {
     "data": {
      "text/plain": [
       "array([  7,  35,  42,  56,  49, 315,  42])"
      ]
     },
     "execution_count": 8,
     "metadata": {},
     "output_type": "execute_result"
    }
   ],
   "source": [
    "w*7"
   ]
  },
  {
   "cell_type": "code",
   "execution_count": 9,
   "id": "1451fa22-0449-43d2-ac27-b1f55e614f8a",
   "metadata": {},
   "outputs": [
    {
     "data": {
      "text/plain": [
       "array([0.2, 1. , 1.2, 1.6, 1.4, 9. , 1.2])"
      ]
     },
     "execution_count": 9,
     "metadata": {},
     "output_type": "execute_result"
    }
   ],
   "source": [
    "w/5"
   ]
  },
  {
   "cell_type": "code",
   "execution_count": 10,
   "id": "7898c054-4916-4b50-a6c1-0d9ef25c5855",
   "metadata": {},
   "outputs": [
    {
     "data": {
      "text/plain": [
       "array([   1,   25,   36,   64,   49, 2025,   36], dtype=int32)"
      ]
     },
     "execution_count": 10,
     "metadata": {},
     "output_type": "execute_result"
    }
   ],
   "source": [
    "w**2"
   ]
  },
  {
   "cell_type": "code",
   "execution_count": 11,
   "id": "f3d5b509-4c06-42b1-a576-52b139c598c6",
   "metadata": {},
   "outputs": [
    {
     "data": {
      "text/plain": [
       "array([0, 1, 1, 1, 1, 9, 1], dtype=int32)"
      ]
     },
     "execution_count": 11,
     "metadata": {},
     "output_type": "execute_result"
    }
   ],
   "source": [
    "w//5"
   ]
  },
  {
   "cell_type": "code",
   "execution_count": 13,
   "id": "f2ed3605-af63-4035-81c6-3f87ddf012ba",
   "metadata": {},
   "outputs": [
    {
     "data": {
      "text/plain": [
       "array([ 0,  4,  5,  7,  6, 44,  5])"
      ]
     },
     "execution_count": 13,
     "metadata": {},
     "output_type": "execute_result"
    }
   ],
   "source": [
    "w-1"
   ]
  },
  {
   "cell_type": "markdown",
   "id": "c3a1bc4c-ac68-4952-8816-833261d92a9b",
   "metadata": {},
   "source": [
    "2x1 + 3x2 = 8\n",
    "3x1 + 5x2 = 13"
   ]
  },
  {
   "cell_type": "code",
   "execution_count": 17,
   "id": "2ef16948-d882-44d8-8611-38caa7479c59",
   "metadata": {},
   "outputs": [],
   "source": [
    "a = np.array([[2,3],[3,5]])\n",
    "b = np.array([8,13])\n",
    "\n",
    "x = np.linalg.solve(a,b)"
   ]
  },
  {
   "cell_type": "code",
   "execution_count": 18,
   "id": "c42d184a-8b49-4777-9298-c8543cddde8a",
   "metadata": {},
   "outputs": [
    {
     "data": {
      "text/plain": [
       "array([1., 2.])"
      ]
     },
     "execution_count": 18,
     "metadata": {},
     "output_type": "execute_result"
    }
   ],
   "source": [
    "x"
   ]
  },
  {
   "cell_type": "code",
   "execution_count": 20,
   "id": "aa15e22f-3561-4ecd-8e7f-697df5d850ca",
   "metadata": {},
   "outputs": [
    {
     "data": {
      "text/plain": [
       "array([ 1,  5,  6,  8,  7, 45,  6])"
      ]
     },
     "execution_count": 20,
     "metadata": {},
     "output_type": "execute_result"
    }
   ],
   "source": [
    "w"
   ]
  },
  {
   "cell_type": "code",
   "execution_count": 21,
   "id": "aae617ff-a694-41be-9ed5-70903b213600",
   "metadata": {},
   "outputs": [
    {
     "data": {
      "text/plain": [
       "array([ 3,  7,  8, 10,  9, 47,  8])"
      ]
     },
     "execution_count": 21,
     "metadata": {},
     "output_type": "execute_result"
    }
   ],
   "source": [
    "np.add(w,2)"
   ]
  },
  {
   "cell_type": "code",
   "execution_count": 23,
   "id": "3795a49c-97da-4617-9018-dd70b141f79a",
   "metadata": {},
   "outputs": [
    {
     "data": {
      "text/plain": [
       "array([-1,  3,  4,  6,  5, 43,  4])"
      ]
     },
     "execution_count": 23,
     "metadata": {},
     "output_type": "execute_result"
    }
   ],
   "source": [
    "np.subtract(w,2)"
   ]
  },
  {
   "cell_type": "code",
   "execution_count": 24,
   "id": "183b968c-5fb1-4f42-b3b2-f39a3c421f0c",
   "metadata": {},
   "outputs": [
    {
     "data": {
      "text/plain": [
       "array([ 2, 10, 12, 16, 14, 90, 12])"
      ]
     },
     "execution_count": 24,
     "metadata": {},
     "output_type": "execute_result"
    }
   ],
   "source": [
    "np.multiply(w,2)"
   ]
  },
  {
   "cell_type": "code",
   "execution_count": 26,
   "id": "a0613baf-324b-4202-aca7-087f772aea7b",
   "metadata": {},
   "outputs": [
    {
     "data": {
      "text/plain": [
       "array([0.2, 1. , 1.2, 1.6, 1.4, 9. , 1.2])"
      ]
     },
     "execution_count": 26,
     "metadata": {},
     "output_type": "execute_result"
    }
   ],
   "source": [
    "np.divide(w,5)"
   ]
  },
  {
   "cell_type": "code",
   "execution_count": 27,
   "id": "bce7cbc4-cb4d-4994-a58c-8bdb7086c7ac",
   "metadata": {},
   "outputs": [
    {
     "data": {
      "text/plain": [
       "array([0.2, 1. , 1.2, 1.6, 1.4, 9. , 1.2])"
      ]
     },
     "execution_count": 27,
     "metadata": {},
     "output_type": "execute_result"
    }
   ],
   "source": [
    "w/5"
   ]
  },
  {
   "cell_type": "code",
   "execution_count": 28,
   "id": "f5a54be7-5bff-48eb-872f-ef9857507339",
   "metadata": {},
   "outputs": [
    {
     "data": {
      "text/plain": [
       "array([ 2, 10, 12, 16, 14, 90, 12])"
      ]
     },
     "execution_count": 28,
     "metadata": {},
     "output_type": "execute_result"
    }
   ],
   "source": [
    "w*2"
   ]
  },
  {
   "cell_type": "code",
   "execution_count": 29,
   "id": "5f2830cc-034c-4d65-8d51-2fe838678ae4",
   "metadata": {},
   "outputs": [
    {
     "data": {
      "text/plain": [
       "array([0, 0, 1, 1, 1, 7, 1], dtype=int32)"
      ]
     },
     "execution_count": 29,
     "metadata": {},
     "output_type": "execute_result"
    }
   ],
   "source": [
    "w//6"
   ]
  },
  {
   "cell_type": "code",
   "execution_count": 31,
   "id": "77f90b67-beca-4565-a60a-35e82a4984d9",
   "metadata": {},
   "outputs": [
    {
     "data": {
      "text/plain": [
       "array([0, 0, 1, 1, 1, 7, 1], dtype=int32)"
      ]
     },
     "execution_count": 31,
     "metadata": {},
     "output_type": "execute_result"
    }
   ],
   "source": [
    "np.floor_divide(w,6)"
   ]
  },
  {
   "cell_type": "code",
   "execution_count": 32,
   "id": "7b53d132-9132-4fb2-a403-e3c39b09994d",
   "metadata": {},
   "outputs": [
    {
     "data": {
      "text/plain": [
       "array([   1,   25,   36,   64,   49, 2025,   36], dtype=int32)"
      ]
     },
     "execution_count": 32,
     "metadata": {},
     "output_type": "execute_result"
    }
   ],
   "source": [
    "w**2"
   ]
  },
  {
   "cell_type": "code",
   "execution_count": 34,
   "id": "297e911f-9b93-4c7b-a53c-031faeaea3b4",
   "metadata": {},
   "outputs": [
    {
     "data": {
      "text/plain": [
       "array([   1,   25,   36,   64,   49, 2025,   36], dtype=int32)"
      ]
     },
     "execution_count": 34,
     "metadata": {},
     "output_type": "execute_result"
    }
   ],
   "source": [
    "np.power(w,2)"
   ]
  },
  {
   "cell_type": "code",
   "execution_count": 35,
   "id": "dbf65fc8-3065-401c-8321-641ba4801027",
   "metadata": {},
   "outputs": [
    {
     "data": {
      "text/plain": [
       "array([1, 0, 1, 3, 2, 0, 1], dtype=int32)"
      ]
     },
     "execution_count": 35,
     "metadata": {},
     "output_type": "execute_result"
    }
   ],
   "source": [
    "np.mod(w,5)"
   ]
  },
  {
   "cell_type": "code",
   "execution_count": 36,
   "id": "02b20f0d-5635-49f3-87ce-483dbc134561",
   "metadata": {},
   "outputs": [
    {
     "data": {
      "text/plain": [
       "array([1, 0, 1, 3, 2, 0, 1], dtype=int32)"
      ]
     },
     "execution_count": 36,
     "metadata": {},
     "output_type": "execute_result"
    }
   ],
   "source": [
    "w%5"
   ]
  },
  {
   "cell_type": "code",
   "execution_count": 40,
   "id": "7510cc52-2039-459b-897d-410b8a4050fe",
   "metadata": {},
   "outputs": [
    {
     "data": {
      "text/plain": [
       "array([ 2,  5,  7,  9,  3, 21])"
      ]
     },
     "execution_count": 40,
     "metadata": {},
     "output_type": "execute_result"
    }
   ],
   "source": [
    "np.absolute(np.array([-2,5,-7,9,3,21]))"
   ]
  },
  {
   "cell_type": "code",
   "execution_count": 41,
   "id": "622d1c95-88c6-47aa-8bc3-7f0a8676ff7c",
   "metadata": {},
   "outputs": [
    {
     "data": {
      "text/plain": [
       "array([ 2,  5,  7,  9,  3, 21])"
      ]
     },
     "execution_count": 41,
     "metadata": {},
     "output_type": "execute_result"
    }
   ],
   "source": [
    "abs(np.array([-2,5,-7,9,3,21]))"
   ]
  },
  {
   "cell_type": "code",
   "execution_count": 43,
   "id": "72d004dd-cc7e-4a6c-aa35-dba654052ab0",
   "metadata": {},
   "outputs": [],
   "source": [
    "q = np.array([[-2, 5, -7],\n",
    "              [4, 6, 2],\n",
    "              [-8, 5, 3]])"
   ]
  },
  {
   "cell_type": "code",
   "execution_count": 44,
   "id": "4f97e457-5e2e-49df-83f2-5ca0cd2afcaf",
   "metadata": {},
   "outputs": [
    {
     "data": {
      "text/plain": [
       "array([[-1,  6, -6],\n",
       "       [ 5,  7,  3],\n",
       "       [-7,  6,  4]])"
      ]
     },
     "execution_count": 44,
     "metadata": {},
     "output_type": "execute_result"
    }
   ],
   "source": [
    "q+1"
   ]
  },
  {
   "cell_type": "code",
   "execution_count": 45,
   "id": "3b4b0832-719b-49e2-b4c7-266370959f44",
   "metadata": {},
   "outputs": [
    {
     "data": {
      "text/plain": [
       "array([[2, 5, 7],\n",
       "       [4, 6, 2],\n",
       "       [8, 5, 3]])"
      ]
     },
     "execution_count": 45,
     "metadata": {},
     "output_type": "execute_result"
    }
   ],
   "source": [
    "abs(q)"
   ]
  },
  {
   "cell_type": "code",
   "execution_count": 46,
   "id": "a69e922c-5e23-4c89-a467-9039c3daa446",
   "metadata": {},
   "outputs": [
    {
     "data": {
      "text/plain": [
       "array([[2, 5, 7],\n",
       "       [4, 6, 2],\n",
       "       [8, 5, 3]])"
      ]
     },
     "execution_count": 46,
     "metadata": {},
     "output_type": "execute_result"
    }
   ],
   "source": [
    "np.abs(q)"
   ]
  },
  {
   "cell_type": "code",
   "execution_count": 49,
   "id": "22cceccb-485d-4b3d-b7d9-a090a1edd88d",
   "metadata": {},
   "outputs": [],
   "source": [
    "z = np.array([\n",
    "    [4+4j, 4+8j, 1+6j],\n",
    "    [7+2j, 1+1j, 2+2j]\n",
    "], dtype = complex)"
   ]
  },
  {
   "cell_type": "code",
   "execution_count": 50,
   "id": "832cc20e-fcc7-4278-b0a4-365cafab229c",
   "metadata": {},
   "outputs": [
    {
     "data": {
      "text/plain": [
       "array([[5.65685425, 8.94427191, 6.08276253],\n",
       "       [7.28010989, 1.41421356, 2.82842712]])"
      ]
     },
     "execution_count": 50,
     "metadata": {},
     "output_type": "execute_result"
    }
   ],
   "source": [
    "np.abs(z)"
   ]
  },
  {
   "cell_type": "markdown",
   "id": "ab3cbf23-dbda-450f-9ca0-99457099062d",
   "metadata": {},
   "source": [
    "# Trigonometric functions"
   ]
  },
  {
   "cell_type": "code",
   "execution_count": 51,
   "id": "e40560ab-e74f-48ea-b285-6b1147c2a554",
   "metadata": {},
   "outputs": [],
   "source": [
    "tetha = np.linspace(0,np.pi, 3)\n"
   ]
  },
  {
   "cell_type": "code",
   "execution_count": 52,
   "id": "b899b748-3766-4b72-854d-d0ad1143b29d",
   "metadata": {},
   "outputs": [
    {
     "data": {
      "text/plain": [
       "array([0.        , 1.57079633, 3.14159265])"
      ]
     },
     "execution_count": 52,
     "metadata": {},
     "output_type": "execute_result"
    }
   ],
   "source": [
    "tetha\n"
   ]
  },
  {
   "cell_type": "code",
   "execution_count": 54,
   "id": "59dc2c96-01e1-47f3-b1d3-ee78454c3e1c",
   "metadata": {},
   "outputs": [
    {
     "data": {
      "text/plain": [
       "array([0.0000000e+00, 1.0000000e+00, 1.2246468e-16])"
      ]
     },
     "execution_count": 54,
     "metadata": {},
     "output_type": "execute_result"
    }
   ],
   "source": [
    "np.sin(tetha)"
   ]
  },
  {
   "cell_type": "code",
   "execution_count": 55,
   "id": "9abadb52-cba1-458e-93bc-94a7f3501298",
   "metadata": {},
   "outputs": [
    {
     "data": {
      "text/plain": [
       "array([ 1.000000e+00,  6.123234e-17, -1.000000e+00])"
      ]
     },
     "execution_count": 55,
     "metadata": {},
     "output_type": "execute_result"
    }
   ],
   "source": [
    "np.cos(tetha)"
   ]
  },
  {
   "cell_type": "code",
   "execution_count": 57,
   "id": "1bfb6141-8d91-433d-93a2-cf3fcfce06b7",
   "metadata": {},
   "outputs": [
    {
     "data": {
      "text/plain": [
       "array([ 0.00000000e+00,  1.63312394e+16, -1.22464680e-16])"
      ]
     },
     "execution_count": 57,
     "metadata": {},
     "output_type": "execute_result"
    }
   ],
   "source": [
    "np.tan(tetha)"
   ]
  },
  {
   "cell_type": "markdown",
   "id": "9b359a65-b817-49af-9639-556f61fd666b",
   "metadata": {},
   "source": [
    "# Inverse trigonometric functions"
   ]
  },
  {
   "cell_type": "code",
   "execution_count": 58,
   "id": "356b3568-750d-4126-bff5-96a7fe7a5c8a",
   "metadata": {},
   "outputs": [],
   "source": [
    "k = np.array( [-1, 0, 1])"
   ]
  },
  {
   "cell_type": "code",
   "execution_count": 62,
   "id": "eca590f7-ab85-44c0-9070-c48b12f307ba",
   "metadata": {},
   "outputs": [],
   "source": [
    "x =np.array( [np.arccos(k),np.arcsin(k),np.arctan(k)])"
   ]
  },
  {
   "cell_type": "code",
   "execution_count": 63,
   "id": "1866b477-c8b9-49a2-885c-f812386057e6",
   "metadata": {},
   "outputs": [
    {
     "data": {
      "text/plain": [
       "array([[ 3.14159265,  1.57079633,  0.        ],\n",
       "       [-1.57079633,  0.        ,  1.57079633],\n",
       "       [-0.78539816,  0.        ,  0.78539816]])"
      ]
     },
     "execution_count": 63,
     "metadata": {},
     "output_type": "execute_result"
    }
   ],
   "source": [
    "x"
   ]
  },
  {
   "cell_type": "code",
   "execution_count": 64,
   "id": "99be6ead-6180-4888-b1de-3e11d2f1b9db",
   "metadata": {},
   "outputs": [
    {
     "data": {
      "text/plain": [
       "2"
      ]
     },
     "execution_count": 64,
     "metadata": {},
     "output_type": "execute_result"
    }
   ],
   "source": [
    "x.ndim"
   ]
  },
  {
   "cell_type": "code",
   "execution_count": null,
   "id": "0a1d9acf-8255-44c8-ae5f-5d0335cb0f24",
   "metadata": {},
   "outputs": [],
   "source": []
  }
 ],
 "metadata": {
  "kernelspec": {
   "display_name": "Python 3 (ipykernel)",
   "language": "python",
   "name": "python3"
  },
  "language_info": {
   "codemirror_mode": {
    "name": "ipython",
    "version": 3
   },
   "file_extension": ".py",
   "mimetype": "text/x-python",
   "name": "python",
   "nbconvert_exporter": "python",
   "pygments_lexer": "ipython3",
   "version": "3.9.12"
  }
 },
 "nbformat": 4,
 "nbformat_minor": 5
}
